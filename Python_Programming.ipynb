{
 "cells": [
  {
   "cell_type": "markdown",
   "id": "f5f54773",
   "metadata": {},
   "source": [
    "## Implicit and Explicit conversion "
   ]
  },
  {
   "cell_type": "markdown",
   "id": "115abcd5",
   "metadata": {},
   "source": [
    "### Implicit conversion"
   ]
  },
  {
   "cell_type": "code",
   "execution_count": 7,
   "id": "6d881ac9",
   "metadata": {},
   "outputs": [
    {
     "data": {
      "text/plain": [
       "5.0"
      ]
     },
     "execution_count": 7,
     "metadata": {},
     "output_type": "execute_result"
    }
   ],
   "source": [
    "x=30\n",
    "y=6\n",
    "z=x/y\n",
    "z"
   ]
  },
  {
   "cell_type": "code",
   "execution_count": 8,
   "id": "4547f502",
   "metadata": {},
   "outputs": [
    {
     "data": {
      "text/plain": [
       "36"
      ]
     },
     "execution_count": 8,
     "metadata": {},
     "output_type": "execute_result"
    }
   ],
   "source": [
    "x+y"
   ]
  },
  {
   "cell_type": "code",
   "execution_count": 9,
   "id": "63fedf96",
   "metadata": {},
   "outputs": [
    {
     "data": {
      "text/plain": [
       "float"
      ]
     },
     "execution_count": 9,
     "metadata": {},
     "output_type": "execute_result"
    }
   ],
   "source": [
    "type(z)"
   ]
  },
  {
   "cell_type": "code",
   "execution_count": 10,
   "id": "20460bdd",
   "metadata": {},
   "outputs": [
    {
     "ename": "TypeError",
     "evalue": "unsupported operand type(s) for +: 'int' and 'str'",
     "output_type": "error",
     "traceback": [
      "\u001b[1;31m---------------------------------------------------------------------------\u001b[0m",
      "\u001b[1;31mTypeError\u001b[0m                                 Traceback (most recent call last)",
      "Cell \u001b[1;32mIn[10], line 3\u001b[0m\n\u001b[0;32m      1\u001b[0m x\u001b[38;5;241m=\u001b[39m\u001b[38;5;241m12\u001b[39m\n\u001b[0;32m      2\u001b[0m y\u001b[38;5;241m=\u001b[39m\u001b[38;5;124m\"\u001b[39m\u001b[38;5;124m43.5\u001b[39m\u001b[38;5;124m\"\u001b[39m\n\u001b[1;32m----> 3\u001b[0m z\u001b[38;5;241m=\u001b[39mx\u001b[38;5;241m+\u001b[39my\n\u001b[0;32m      4\u001b[0m z\n",
      "\u001b[1;31mTypeError\u001b[0m: unsupported operand type(s) for +: 'int' and 'str'"
     ]
    }
   ],
   "source": [
    "x=12\n",
    "y=\"43.5\"\n",
    "z=x+y\n",
    "z"
   ]
  },
  {
   "cell_type": "code",
   "execution_count": 12,
   "id": "01999547",
   "metadata": {},
   "outputs": [
    {
     "data": {
      "text/plain": [
       "55.5"
      ]
     },
     "execution_count": 12,
     "metadata": {},
     "output_type": "execute_result"
    }
   ],
   "source": [
    "z=x+float(y)\n",
    "z"
   ]
  },
  {
   "cell_type": "code",
   "execution_count": 14,
   "id": "a96fedc1",
   "metadata": {},
   "outputs": [
    {
     "ename": "ValueError",
     "evalue": "invalid literal for int() with base 10: '43.5'",
     "output_type": "error",
     "traceback": [
      "\u001b[1;31m---------------------------------------------------------------------------\u001b[0m",
      "\u001b[1;31mValueError\u001b[0m                                Traceback (most recent call last)",
      "Cell \u001b[1;32mIn[14], line 1\u001b[0m\n\u001b[1;32m----> 1\u001b[0m z\u001b[38;5;241m=\u001b[39mx\u001b[38;5;241m+\u001b[39m\u001b[38;5;28mint\u001b[39m(y)\n\u001b[0;32m      2\u001b[0m z\n",
      "\u001b[1;31mValueError\u001b[0m: invalid literal for int() with base 10: '43.5'"
     ]
    }
   ],
   "source": [
    "z=x+int(y)\n",
    "z\n"
   ]
  },
  {
   "cell_type": "markdown",
   "id": "b419a5f0",
   "metadata": {},
   "source": [
    "### Explicit conversion"
   ]
  },
  {
   "cell_type": "code",
   "execution_count": 15,
   "id": "9df5c20e",
   "metadata": {},
   "outputs": [
    {
     "data": {
      "text/plain": [
       "20.0"
      ]
     },
     "execution_count": 15,
     "metadata": {},
     "output_type": "execute_result"
    }
   ],
   "source": [
    "x=20\n",
    "float(x)"
   ]
  },
  {
   "cell_type": "code",
   "execution_count": 24,
   "id": "04b4280c",
   "metadata": {},
   "outputs": [
    {
     "data": {
      "text/plain": [
       "True"
      ]
     },
     "execution_count": 24,
     "metadata": {},
     "output_type": "execute_result"
    }
   ],
   "source": [
    "x=10\n",
    "bool(10)"
   ]
  },
  {
   "cell_type": "code",
   "execution_count": 27,
   "id": "6c9257e9",
   "metadata": {},
   "outputs": [
    {
     "data": {
      "text/plain": [
       "'20'"
      ]
     },
     "execution_count": 27,
     "metadata": {},
     "output_type": "execute_result"
    }
   ],
   "source": [
    "x=20\n",
    "str(x)"
   ]
  },
  {
   "cell_type": "code",
   "execution_count": 28,
   "id": "9b0d7904",
   "metadata": {},
   "outputs": [
    {
     "data": {
      "text/plain": [
       "20"
      ]
     },
     "execution_count": 28,
     "metadata": {},
     "output_type": "execute_result"
    }
   ],
   "source": [
    "x=20.3\n",
    "int(x)"
   ]
  },
  {
   "cell_type": "code",
   "execution_count": 29,
   "id": "8b24dbc6",
   "metadata": {},
   "outputs": [
    {
     "data": {
      "text/plain": [
       "True"
      ]
     },
     "execution_count": 29,
     "metadata": {},
     "output_type": "execute_result"
    }
   ],
   "source": [
    "x=20.5\n",
    "bool(x)"
   ]
  },
  {
   "cell_type": "code",
   "execution_count": 30,
   "id": "1684e9b4",
   "metadata": {},
   "outputs": [
    {
     "data": {
      "text/plain": [
       "'23.98'"
      ]
     },
     "execution_count": 30,
     "metadata": {},
     "output_type": "execute_result"
    }
   ],
   "source": [
    "x=23.98\n",
    "str(x)"
   ]
  },
  {
   "cell_type": "code",
   "execution_count": 31,
   "id": "5119303c",
   "metadata": {},
   "outputs": [
    {
     "ename": "ValueError",
     "evalue": "invalid literal for int() with base 10: '23.8'",
     "output_type": "error",
     "traceback": [
      "\u001b[1;31m---------------------------------------------------------------------------\u001b[0m",
      "\u001b[1;31mValueError\u001b[0m                                Traceback (most recent call last)",
      "Cell \u001b[1;32mIn[31], line 2\u001b[0m\n\u001b[0;32m      1\u001b[0m x\u001b[38;5;241m=\u001b[39m\u001b[38;5;124m\"\u001b[39m\u001b[38;5;124m23.8\u001b[39m\u001b[38;5;124m\"\u001b[39m\n\u001b[1;32m----> 2\u001b[0m \u001b[38;5;28mint\u001b[39m(x)\n",
      "\u001b[1;31mValueError\u001b[0m: invalid literal for int() with base 10: '23.8'"
     ]
    }
   ],
   "source": [
    "x=\"23.8\"\n",
    "int(x)"
   ]
  },
  {
   "cell_type": "code",
   "execution_count": 32,
   "id": "a86a27c7",
   "metadata": {},
   "outputs": [
    {
     "data": {
      "text/plain": [
       "23.8"
      ]
     },
     "execution_count": 32,
     "metadata": {},
     "output_type": "execute_result"
    }
   ],
   "source": [
    "x=\"23.8\"\n",
    "float(x)"
   ]
  },
  {
   "cell_type": "code",
   "execution_count": 33,
   "id": "52e070d0",
   "metadata": {},
   "outputs": [
    {
     "data": {
      "text/plain": [
       "True"
      ]
     },
     "execution_count": 33,
     "metadata": {},
     "output_type": "execute_result"
    }
   ],
   "source": [
    "x=\"23.8\"\n",
    "bool(x)"
   ]
  },
  {
   "cell_type": "code",
   "execution_count": 34,
   "id": "a727f011",
   "metadata": {},
   "outputs": [
    {
     "data": {
      "text/plain": [
       "20.0"
      ]
     },
     "execution_count": 34,
     "metadata": {},
     "output_type": "execute_result"
    }
   ],
   "source": [
    "x=\"20\"\n",
    "float(x)"
   ]
  },
  {
   "cell_type": "code",
   "execution_count": 35,
   "id": "f05ce7be",
   "metadata": {},
   "outputs": [
    {
     "ename": "ValueError",
     "evalue": "invalid literal for int() with base 10: 'Analytics'",
     "output_type": "error",
     "traceback": [
      "\u001b[1;31m---------------------------------------------------------------------------\u001b[0m",
      "\u001b[1;31mValueError\u001b[0m                                Traceback (most recent call last)",
      "Cell \u001b[1;32mIn[35], line 2\u001b[0m\n\u001b[0;32m      1\u001b[0m x\u001b[38;5;241m=\u001b[39m\u001b[38;5;124m\"\u001b[39m\u001b[38;5;124mAnalytics\u001b[39m\u001b[38;5;124m\"\u001b[39m\n\u001b[1;32m----> 2\u001b[0m \u001b[38;5;28mint\u001b[39m(x)\n",
      "\u001b[1;31mValueError\u001b[0m: invalid literal for int() with base 10: 'Analytics'"
     ]
    }
   ],
   "source": [
    "x=\"Analytics\"\n",
    "int(x)"
   ]
  },
  {
   "cell_type": "code",
   "execution_count": 36,
   "id": "0861e6db",
   "metadata": {},
   "outputs": [
    {
     "ename": "ValueError",
     "evalue": "could not convert string to float: 'analytics'",
     "output_type": "error",
     "traceback": [
      "\u001b[1;31m---------------------------------------------------------------------------\u001b[0m",
      "\u001b[1;31mValueError\u001b[0m                                Traceback (most recent call last)",
      "Cell \u001b[1;32mIn[36], line 2\u001b[0m\n\u001b[0;32m      1\u001b[0m x\u001b[38;5;241m=\u001b[39m\u001b[38;5;124m\"\u001b[39m\u001b[38;5;124manalytics\u001b[39m\u001b[38;5;124m\"\u001b[39m\n\u001b[1;32m----> 2\u001b[0m \u001b[38;5;28mfloat\u001b[39m(x)\n",
      "\u001b[1;31mValueError\u001b[0m: could not convert string to float: 'analytics'"
     ]
    }
   ],
   "source": [
    "x=\"analytics\"\n",
    "float(x)"
   ]
  },
  {
   "cell_type": "markdown",
   "id": "ff13ce1c",
   "metadata": {},
   "source": [
    "### Concatenation"
   ]
  },
  {
   "cell_type": "code",
   "execution_count": 37,
   "id": "11c49e3d",
   "metadata": {},
   "outputs": [
    {
     "name": "stdout",
     "output_type": "stream",
     "text": [
      "hello\n"
     ]
    }
   ],
   "source": [
    "print(\"hello\")"
   ]
  },
  {
   "cell_type": "code",
   "execution_count": 39,
   "id": "df79cff4",
   "metadata": {},
   "outputs": [
    {
     "name": "stdout",
     "output_type": "stream",
     "text": [
      "Python is fun\n"
     ]
    }
   ],
   "source": [
    "print(\"Python\"+\" is fun\")"
   ]
  },
  {
   "cell_type": "code",
   "execution_count": 40,
   "id": "43d9eb51",
   "metadata": {},
   "outputs": [
    {
     "ename": "TypeError",
     "evalue": "can only concatenate str (not \"int\") to str",
     "output_type": "error",
     "traceback": [
      "\u001b[1;31m---------------------------------------------------------------------------\u001b[0m",
      "\u001b[1;31mTypeError\u001b[0m                                 Traceback (most recent call last)",
      "Cell \u001b[1;32mIn[40], line 1\u001b[0m\n\u001b[1;32m----> 1\u001b[0m \u001b[38;5;28mprint\u001b[39m(\u001b[38;5;124m\"\u001b[39m\u001b[38;5;124mPython\u001b[39m\u001b[38;5;124m\"\u001b[39m\u001b[38;5;241m+\u001b[39m \u001b[38;5;241m56\u001b[39m)\n",
      "\u001b[1;31mTypeError\u001b[0m: can only concatenate str (not \"int\") to str"
     ]
    }
   ],
   "source": [
    "print(\"Python\"+ 56)"
   ]
  },
  {
   "cell_type": "code",
   "execution_count": 43,
   "id": "80619563",
   "metadata": {},
   "outputs": [
    {
     "name": "stdout",
     "output_type": "stream",
     "text": [
      "Python56\n"
     ]
    }
   ],
   "source": [
    "print(\"Python\"+str(56))"
   ]
  },
  {
   "cell_type": "markdown",
   "id": "c3e8ca61",
   "metadata": {},
   "source": [
    "### Aritmatic Operations"
   ]
  },
  {
   "cell_type": "code",
   "execution_count": 44,
   "id": "5ea905ed",
   "metadata": {},
   "outputs": [
    {
     "data": {
      "text/plain": [
       "40"
      ]
     },
     "execution_count": 44,
     "metadata": {},
     "output_type": "execute_result"
    }
   ],
   "source": [
    "x=19\n",
    "y=21\n",
    "x+y"
   ]
  },
  {
   "cell_type": "code",
   "execution_count": 45,
   "id": "c84a164e",
   "metadata": {},
   "outputs": [
    {
     "data": {
      "text/plain": [
       "-2"
      ]
     },
     "execution_count": 45,
     "metadata": {},
     "output_type": "execute_result"
    }
   ],
   "source": [
    "x-y"
   ]
  },
  {
   "cell_type": "code",
   "execution_count": 46,
   "id": "495febc1",
   "metadata": {},
   "outputs": [
    {
     "data": {
      "text/plain": [
       "399"
      ]
     },
     "execution_count": 46,
     "metadata": {},
     "output_type": "execute_result"
    }
   ],
   "source": [
    "x*y\n"
   ]
  },
  {
   "cell_type": "code",
   "execution_count": 47,
   "id": "d3ccfd05",
   "metadata": {},
   "outputs": [
    {
     "data": {
      "text/plain": [
       "0.9047619047619048"
      ]
     },
     "execution_count": 47,
     "metadata": {},
     "output_type": "execute_result"
    }
   ],
   "source": [
    "x/y"
   ]
  },
  {
   "cell_type": "code",
   "execution_count": 48,
   "id": "1bc6cf1b",
   "metadata": {},
   "outputs": [
    {
     "data": {
      "text/plain": [
       "714209495693373205673756419"
      ]
     },
     "execution_count": 48,
     "metadata": {},
     "output_type": "execute_result"
    }
   ],
   "source": [
    "x**y     # x to the power y"
   ]
  },
  {
   "cell_type": "code",
   "execution_count": 49,
   "id": "17effcd5",
   "metadata": {},
   "outputs": [
    {
     "data": {
      "text/plain": [
       "3486784401"
      ]
     },
     "execution_count": 49,
     "metadata": {},
     "output_type": "execute_result"
    }
   ],
   "source": [
    "x=9\n",
    "y=10\n",
    "x**y"
   ]
  },
  {
   "cell_type": "code",
   "execution_count": 50,
   "id": "2bdc60c2",
   "metadata": {},
   "outputs": [
    {
     "data": {
      "text/plain": [
       "9"
      ]
     },
     "execution_count": 50,
     "metadata": {},
     "output_type": "execute_result"
    }
   ],
   "source": [
    "x%y # Remainder when x>y,x when x<y "
   ]
  },
  {
   "cell_type": "code",
   "execution_count": 51,
   "id": "f72ba62e",
   "metadata": {},
   "outputs": [
    {
     "data": {
      "text/plain": [
       "3"
      ]
     },
     "execution_count": 51,
     "metadata": {},
     "output_type": "execute_result"
    }
   ],
   "source": [
    "x=15\n",
    "y=4\n",
    "x%y"
   ]
  },
  {
   "cell_type": "code",
   "execution_count": 54,
   "id": "585db54b",
   "metadata": {},
   "outputs": [
    {
     "data": {
      "text/plain": [
       "3"
      ]
     },
     "execution_count": 54,
     "metadata": {},
     "output_type": "execute_result"
    }
   ],
   "source": [
    "x=17   # x>y=>Quotient,x<y=0\n",
    "y=5    # floor division\n",
    "x//y"
   ]
  },
  {
   "cell_type": "code",
   "execution_count": 55,
   "id": "bdcd1249",
   "metadata": {},
   "outputs": [
    {
     "data": {
      "text/plain": [
       "0"
      ]
     },
     "execution_count": 55,
     "metadata": {},
     "output_type": "execute_result"
    }
   ],
   "source": [
    "x=10\n",
    "y=20\n",
    "x//y"
   ]
  },
  {
   "cell_type": "markdown",
   "id": "0ee22de7",
   "metadata": {},
   "source": [
    "### Relational operators"
   ]
  },
  {
   "cell_type": "code",
   "execution_count": 64,
   "id": "ebb34863",
   "metadata": {},
   "outputs": [
    {
     "data": {
      "text/plain": [
       "True"
      ]
     },
     "execution_count": 64,
     "metadata": {},
     "output_type": "execute_result"
    }
   ],
   "source": [
    "a=5\n",
    "b=4\n",
    "a>b"
   ]
  },
  {
   "cell_type": "code",
   "execution_count": 65,
   "id": "2435fbbd",
   "metadata": {},
   "outputs": [
    {
     "data": {
      "text/plain": [
       "False"
      ]
     },
     "execution_count": 65,
     "metadata": {},
     "output_type": "execute_result"
    }
   ],
   "source": [
    "a<b"
   ]
  },
  {
   "cell_type": "code",
   "execution_count": 66,
   "id": "bd62e80b",
   "metadata": {},
   "outputs": [
    {
     "data": {
      "text/plain": [
       "True"
      ]
     },
     "execution_count": 66,
     "metadata": {},
     "output_type": "execute_result"
    }
   ],
   "source": [
    "a>=b"
   ]
  },
  {
   "cell_type": "code",
   "execution_count": 67,
   "id": "67603356",
   "metadata": {},
   "outputs": [
    {
     "data": {
      "text/plain": [
       "False"
      ]
     },
     "execution_count": 67,
     "metadata": {},
     "output_type": "execute_result"
    }
   ],
   "source": [
    "a<=b"
   ]
  },
  {
   "cell_type": "code",
   "execution_count": 68,
   "id": "46369038",
   "metadata": {},
   "outputs": [
    {
     "data": {
      "text/plain": [
       "False"
      ]
     },
     "execution_count": 68,
     "metadata": {},
     "output_type": "execute_result"
    }
   ],
   "source": [
    "a==b"
   ]
  },
  {
   "cell_type": "code",
   "execution_count": 69,
   "id": "6d7aa3a0",
   "metadata": {},
   "outputs": [
    {
     "data": {
      "text/plain": [
       "True"
      ]
     },
     "execution_count": 69,
     "metadata": {},
     "output_type": "execute_result"
    }
   ],
   "source": [
    "a!=b"
   ]
  },
  {
   "cell_type": "code",
   "execution_count": 70,
   "id": "8b9a8448",
   "metadata": {},
   "outputs": [],
   "source": [
    "a=b # it makes a=b"
   ]
  },
  {
   "cell_type": "code",
   "execution_count": 71,
   "id": "49cd33d2",
   "metadata": {},
   "outputs": [
    {
     "data": {
      "text/plain": [
       "False"
      ]
     },
     "execution_count": 71,
     "metadata": {},
     "output_type": "execute_result"
    }
   ],
   "source": [
    "a!=b"
   ]
  },
  {
   "cell_type": "code",
   "execution_count": 72,
   "id": "4e5b82be",
   "metadata": {},
   "outputs": [
    {
     "data": {
      "text/plain": [
       "True"
      ]
     },
     "execution_count": 72,
     "metadata": {},
     "output_type": "execute_result"
    }
   ],
   "source": [
    "a==b"
   ]
  },
  {
   "cell_type": "markdown",
   "id": "e5f2aeb5",
   "metadata": {},
   "source": [
    "## Data structures"
   ]
  },
  {
   "cell_type": "code",
   "execution_count": 73,
   "id": "50102752",
   "metadata": {},
   "outputs": [],
   "source": [
    "# list, dict,tupples,set"
   ]
  },
  {
   "cell_type": "markdown",
   "id": "c889f217",
   "metadata": {},
   "source": [
    "## Logical operators"
   ]
  },
  {
   "cell_type": "markdown",
   "id": "17936295",
   "metadata": {},
   "source": [
    "#### AND"
   ]
  },
  {
   "cell_type": "code",
   "execution_count": 77,
   "id": "d5c13e3a",
   "metadata": {},
   "outputs": [],
   "source": [
    "is_student=True\n",
    "in_college=True\n",
    "in_school=False"
   ]
  },
  {
   "cell_type": "code",
   "execution_count": 78,
   "id": "a20724a7",
   "metadata": {},
   "outputs": [
    {
     "data": {
      "text/plain": [
       "True"
      ]
     },
     "execution_count": 78,
     "metadata": {},
     "output_type": "execute_result"
    }
   ],
   "source": [
    "is_student and in_college"
   ]
  },
  {
   "cell_type": "code",
   "execution_count": 79,
   "id": "f5acec5f",
   "metadata": {},
   "outputs": [
    {
     "data": {
      "text/plain": [
       "False"
      ]
     },
     "execution_count": 79,
     "metadata": {},
     "output_type": "execute_result"
    }
   ],
   "source": [
    "is_student and in_school"
   ]
  },
  {
   "cell_type": "markdown",
   "id": "720f45cb",
   "metadata": {},
   "source": [
    "#### OR"
   ]
  },
  {
   "cell_type": "code",
   "execution_count": 80,
   "id": "0470d9f7",
   "metadata": {},
   "outputs": [
    {
     "data": {
      "text/plain": [
       "True"
      ]
     },
     "execution_count": 80,
     "metadata": {},
     "output_type": "execute_result"
    }
   ],
   "source": [
    "is_student or in_school "
   ]
  },
  {
   "cell_type": "code",
   "execution_count": 81,
   "id": "0351a64a",
   "metadata": {},
   "outputs": [
    {
     "data": {
      "text/plain": [
       "True"
      ]
     },
     "execution_count": 81,
     "metadata": {},
     "output_type": "execute_result"
    }
   ],
   "source": [
    "in_college or in_school"
   ]
  },
  {
   "cell_type": "markdown",
   "id": "ec90c5a8",
   "metadata": {},
   "source": [
    "#### Not"
   ]
  },
  {
   "cell_type": "code",
   "execution_count": 85,
   "id": "4f04071b",
   "metadata": {},
   "outputs": [
    {
     "data": {
      "text/plain": [
       "True"
      ]
     },
     "execution_count": 85,
     "metadata": {},
     "output_type": "execute_result"
    }
   ],
   "source": [
    "not(in_school) "
   ]
  },
  {
   "cell_type": "code",
   "execution_count": 86,
   "id": "54afabee",
   "metadata": {},
   "outputs": [
    {
     "data": {
      "text/plain": [
       "False"
      ]
     },
     "execution_count": 86,
     "metadata": {},
     "output_type": "execute_result"
    }
   ],
   "source": [
    "not(is_student)"
   ]
  },
  {
   "cell_type": "markdown",
   "id": "7af01faa",
   "metadata": {},
   "source": [
    "## Membership Operators"
   ]
  },
  {
   "cell_type": "code",
   "execution_count": 87,
   "id": "566fa102",
   "metadata": {},
   "outputs": [
    {
     "name": "stdout",
     "output_type": "stream",
     "text": [
      "True\n"
     ]
    }
   ],
   "source": [
    "vowels=\"aeiou\"\n",
    "print(\"u\" in vowels)"
   ]
  },
  {
   "cell_type": "code",
   "execution_count": 88,
   "id": "945e38da",
   "metadata": {},
   "outputs": [
    {
     "name": "stdout",
     "output_type": "stream",
     "text": [
      "False\n"
     ]
    }
   ],
   "source": [
    "print(\"x\" in vowels)"
   ]
  },
  {
   "cell_type": "code",
   "execution_count": 90,
   "id": "948c2055",
   "metadata": {},
   "outputs": [
    {
     "name": "stdout",
     "output_type": "stream",
     "text": [
      "False\n"
     ]
    }
   ],
   "source": [
    "print(\"u\" not in vowels)"
   ]
  },
  {
   "cell_type": "code",
   "execution_count": 91,
   "id": "cedbf195",
   "metadata": {},
   "outputs": [
    {
     "data": {
      "text/plain": [
       "True"
      ]
     },
     "execution_count": 91,
     "metadata": {},
     "output_type": "execute_result"
    }
   ],
   "source": [
    "\"x\" not in vowels"
   ]
  },
  {
   "cell_type": "code",
   "execution_count": 92,
   "id": "852aa72a",
   "metadata": {},
   "outputs": [
    {
     "data": {
      "text/plain": [
       "True"
      ]
     },
     "execution_count": 92,
     "metadata": {},
     "output_type": "execute_result"
    }
   ],
   "source": [
    "\"a\" in vowels"
   ]
  },
  {
   "cell_type": "code",
   "execution_count": 93,
   "id": "7109c77c",
   "metadata": {},
   "outputs": [
    {
     "data": {
      "text/plain": [
       "False"
      ]
     },
     "execution_count": 93,
     "metadata": {},
     "output_type": "execute_result"
    }
   ],
   "source": [
    "\"x\" in vowels"
   ]
  },
  {
   "cell_type": "markdown",
   "id": "9ef558b2",
   "metadata": {},
   "source": [
    "## Python File Handling"
   ]
  },
  {
   "cell_type": "code",
   "execution_count": 121,
   "id": "de9b9d56",
   "metadata": {},
   "outputs": [],
   "source": [
    "#open a file in current directory\n",
    "file1=open(\"test.txt\",\"w\")\n",
    "#w means it atomatically creates a test.txt file"
   ]
  },
  {
   "cell_type": "code",
   "execution_count": 122,
   "id": "682fd7c1",
   "metadata": {},
   "outputs": [],
   "source": [
    "file1=open(\"test.txt\",\"r\")  # r opens for reading purpose"
   ]
  },
  {
   "cell_type": "code",
   "execution_count": 123,
   "id": "fb7caf6a",
   "metadata": {},
   "outputs": [],
   "source": [
    "#file1=open(\"test.txt\") #equivalent to 'r' or 'rt'\n",
    "#x->open a file for exclusive creation\n",
    "#b->open in binary mode\n",
    "#t->open in text mode\n",
    "#file1=open(\"img.bmp\",\"r+b\") => read and write in binary mode"
   ]
  },
  {
   "cell_type": "code",
   "execution_count": 127,
   "id": "eaeaf155",
   "metadata": {},
   "outputs": [
    {
     "name": "stdout",
     "output_type": "stream",
     "text": [
      "This is my first test file.\n",
      "Hello threre! This is Pranoti from machine learning department\n"
     ]
    }
   ],
   "source": [
    "file1=open(\"test.txt\",\"r\")\n",
    "read_content = file1.read()\n",
    "print(read_content)"
   ]
  },
  {
   "cell_type": "code",
   "execution_count": 129,
   "id": "7e794092",
   "metadata": {},
   "outputs": [],
   "source": [
    "# close the text file\n",
    "file1.close()\n"
   ]
  },
  {
   "cell_type": "code",
   "execution_count": 130,
   "id": "9543fa71",
   "metadata": {},
   "outputs": [
    {
     "ename": "ValueError",
     "evalue": "I/O operation on closed file.",
     "output_type": "error",
     "traceback": [
      "\u001b[1;31m---------------------------------------------------------------------------\u001b[0m",
      "\u001b[1;31mValueError\u001b[0m                                Traceback (most recent call last)",
      "Cell \u001b[1;32mIn[130], line 1\u001b[0m\n\u001b[1;32m----> 1\u001b[0m file1\u001b[38;5;241m.\u001b[39mread()\n",
      "\u001b[1;31mValueError\u001b[0m: I/O operation on closed file."
     ]
    }
   ],
   "source": [
    "file1.read()"
   ]
  },
  {
   "cell_type": "markdown",
   "id": "0a34a718",
   "metadata": {},
   "source": [
    "#### Exception in file handling- if an exception when we are performing some operations without closing the file. A safer way is to use is try.....finally block."
   ]
  },
  {
   "cell_type": "code",
   "execution_count": 131,
   "id": "8eef941f",
   "metadata": {},
   "outputs": [
    {
     "name": "stdout",
     "output_type": "stream",
     "text": [
      "This is my first test file.\n",
      "Hello threre! This is Pranoti from machine learning department\n"
     ]
    }
   ],
   "source": [
    "try:\n",
    "    file1=open(\"test.txt\",\"r\")\n",
    "    read_content = file1.read()\n",
    "    print(read_content)\n",
    "finally:\n",
    "    file1.close()"
   ]
  },
  {
   "cell_type": "code",
   "execution_count": 132,
   "id": "8d53d87b",
   "metadata": {},
   "outputs": [
    {
     "name": "stdout",
     "output_type": "stream",
     "text": [
      "This is my first test file.\n",
      "Hello threre! This is Pranoti from machine learning department\n"
     ]
    }
   ],
   "source": [
    "#use of with open syntax-it automatically closes the file\n",
    "with open(\"test.txt\",\"r\") as file1:\n",
    "    read_content = file1.read()\n",
    "    print(read_content)"
   ]
  },
  {
   "cell_type": "markdown",
   "id": "2e742818",
   "metadata": {},
   "source": [
    "#### Writing in a file"
   ]
  },
  {
   "cell_type": "code",
   "execution_count": 137,
   "id": "d4d8908f",
   "metadata": {},
   "outputs": [],
   "source": [
    "# if we try writin in a file that is not created it creates a new file"
   ]
  },
  {
   "cell_type": "code",
   "execution_count": 140,
   "id": "ecaae48e",
   "metadata": {},
   "outputs": [],
   "source": [
    "with open(\"test.txt\",\"w\") as file1:         # if a file is already present it ereases the conent and writes given content\n",
    "    file1.write(\"Programming is fun. \\n\")\n",
    "    file1.write(\"Python is object oriented language\")"
   ]
  },
  {
   "cell_type": "markdown",
   "id": "e3fbe9cb",
   "metadata": {},
   "source": [
    "#### Python file methods"
   ]
  },
  {
   "cell_type": "code",
   "execution_count": 142,
   "id": "c5d15188",
   "metadata": {},
   "outputs": [],
   "source": [
    "Method\tDescription\n",
    "close()\tCloses the file\n",
    "detach()\tReturns the separated raw stream from the buffer\n",
    "fileno()\tReturns a number that represents the stream, from the operating system's perspective\n",
    "flush()\tFlushes the internal buffer\n",
    "isatty()\tReturns whether the file stream is interactive or not\n",
    "read()\tReturns the file content\n",
    "readable()\tReturns whether the file stream can be read or not\n",
    "readline()\tReturns one line from the file\n",
    "readlines()\tReturns a list of lines from the file\n",
    "seek()\tChange the file position\n",
    "seekable()\tReturns whether the file allows us to change the file position\n",
    "tell()\tReturns the current file position\n",
    "truncate()\tResizes the file to a specified size\n",
    "writable()\tReturns whether the file can be written to or not\n",
    "write()\tWrites the specified string to the file\n",
    "writelines()\tWrites a list of strings to the file "
   ]
  },
  {
   "cell_type": "markdown",
   "id": "8afb58d8",
   "metadata": {},
   "source": [
    "#### Getting current directory in python"
   ]
  },
  {
   "cell_type": "code",
   "execution_count": 144,
   "id": "4f3747f2",
   "metadata": {},
   "outputs": [
    {
     "name": "stdout",
     "output_type": "stream",
     "text": [
      "C:\\Users\\Admin\n"
     ]
    }
   ],
   "source": [
    "import os\n",
    "\n",
    "print(os.getcwd()) #cwd-> current working directory"
   ]
  },
  {
   "cell_type": "markdown",
   "id": "a33580be",
   "metadata": {},
   "source": [
    "#### Changing current directory"
   ]
  },
  {
   "cell_type": "code",
   "execution_count": 149,
   "id": "97823a8a",
   "metadata": {},
   "outputs": [],
   "source": [
    "import os\n",
    "os.chdir('C:\\\\Users\\\\Public')"
   ]
  },
  {
   "cell_type": "code",
   "execution_count": 150,
   "id": "130d8864",
   "metadata": {},
   "outputs": [
    {
     "name": "stdout",
     "output_type": "stream",
     "text": [
      "C:\\Users\\Public\n"
     ]
    }
   ],
   "source": [
    "print(os.getcwd())"
   ]
  },
  {
   "cell_type": "markdown",
   "id": "3759f584",
   "metadata": {},
   "source": [
    "#### Getting back my original directory"
   ]
  },
  {
   "cell_type": "code",
   "execution_count": 151,
   "id": "3d23e2ec",
   "metadata": {},
   "outputs": [
    {
     "name": "stdout",
     "output_type": "stream",
     "text": [
      "C:\\Users\\Admin\n"
     ]
    }
   ],
   "source": [
    "import os\n",
    "os.chdir('C:\\\\Users\\\\Admin')\n",
    "print(os.getcwd())"
   ]
  },
  {
   "cell_type": "code",
   "execution_count": 152,
   "id": "f6b5c295",
   "metadata": {
    "scrolled": true
   },
   "outputs": [
    {
     "data": {
      "text/plain": [
       "['.conda',\n",
       " '.condarc',\n",
       " '.continuum',\n",
       " '.ipynb_checkpoints',\n",
       " '.ipython',\n",
       " '.jupyter',\n",
       " '.keras',\n",
       " '.matplotlib',\n",
       " 'Activation Functions.ipynb',\n",
       " 'anaconda3',\n",
       " 'AppData',\n",
       " 'Application Data',\n",
       " 'auto-mpg.csv',\n",
       " 'Auto-mpg_data_set.ipynb',\n",
       " 'Basics_of_python_Day1.ipynb',\n",
       " 'Cardio.Good.Fitness_data_set.ipynb',\n",
       " 'CardioGoodFitness-1.csv',\n",
       " 'concrete.csv',\n",
       " 'Concrete_data_set.ipynb',\n",
       " 'Contacts',\n",
       " 'Cookies',\n",
       " 'Desktop',\n",
       " 'Documents',\n",
       " 'Downloads',\n",
       " 'Favorites',\n",
       " 'hotel_bookings.csv',\n",
       " 'hotel_booking_data-set.ipynb',\n",
       " 'Keras-Fashion-mnsit_data set.ipynb',\n",
       " 'Links',\n",
       " 'Loan_prediction_dataset.ipynb',\n",
       " 'Local Settings',\n",
       " 'Music',\n",
       " 'My Documents',\n",
       " 'NetHood',\n",
       " 'NTUSER.DAT',\n",
       " 'ntuser.dat.LOG1',\n",
       " 'ntuser.dat.LOG2',\n",
       " 'NTUSER.DAT{a2332f18-cdbf-11ec-8680-002248483d79}.TM.blf',\n",
       " 'NTUSER.DAT{a2332f18-cdbf-11ec-8680-002248483d79}.TMContainer00000000000000000001.regtrans-ms',\n",
       " 'NTUSER.DAT{a2332f18-cdbf-11ec-8680-002248483d79}.TMContainer00000000000000000002.regtrans-ms',\n",
       " 'ntuser.ini',\n",
       " 'Numpy.ipynb',\n",
       " 'OneDrive',\n",
       " 'Pandas&Matplotlib.ipynb',\n",
       " 'Pandas-Titanic_data_set.ipynb',\n",
       " 'Pictures',\n",
       " 'PrintHood',\n",
       " 'Python_Programming.ipynb',\n",
       " 'Recent',\n",
       " 'Regex, Spacy vs NLTK.ipynb',\n",
       " 'Saved Games',\n",
       " 'Seaborn.ipynb',\n",
       " 'Searches',\n",
       " 'SendTo',\n",
       " 'Start Menu',\n",
       " 'Statistics',\n",
       " 'TaxiFare.csv',\n",
       " 'TAXI_FAIR_dataset.ipynb',\n",
       " 'Templates',\n",
       " 'test.txt',\n",
       " 'test2.txt',\n",
       " 'Vaccine_dataset.ipynb',\n",
       " 'Videos']"
      ]
     },
     "execution_count": 152,
     "metadata": {},
     "output_type": "execute_result"
    }
   ],
   "source": [
    "### List all sub-directories & files in current working directory\n",
    "\n",
    "os.listdir()"
   ]
  },
  {
   "cell_type": "code",
   "execution_count": 154,
   "id": "8b2f4c9b",
   "metadata": {
    "scrolled": true
   },
   "outputs": [
    {
     "data": {
      "text/plain": [
       "['$RECYCLE.BIN',\n",
       " '$WinREAgent',\n",
       " 'Documents and Settings',\n",
       " 'DumpStack.log.tmp',\n",
       " 'hiberfil.sys',\n",
       " 'hp',\n",
       " 'OneDriveTemp',\n",
       " 'pagefile.sys',\n",
       " 'PerfLogs',\n",
       " 'Program Files',\n",
       " 'Program Files (x86)',\n",
       " 'ProgramData',\n",
       " 'Recovery',\n",
       " 'swapfile.sys',\n",
       " 'SWSetup',\n",
       " 'System Volume Information',\n",
       " 'System.sav',\n",
       " 'temp',\n",
       " 'Users',\n",
       " 'Windows']"
      ]
     },
     "execution_count": 154,
     "metadata": {},
     "output_type": "execute_result"
    }
   ],
   "source": [
    "os.listdir('c:\\\\')"
   ]
  },
  {
   "cell_type": "code",
   "execution_count": 155,
   "id": "e7405e35",
   "metadata": {},
   "outputs": [
    {
     "data": {
      "text/plain": [
       "['Admin', 'All Users', 'Default', 'Default User', 'desktop.ini', 'Public']"
      ]
     },
     "execution_count": 155,
     "metadata": {},
     "output_type": "execute_result"
    }
   ],
   "source": [
    "os.listdir('c:\\\\Users\\\\')"
   ]
  },
  {
   "cell_type": "markdown",
   "id": "ef98d158",
   "metadata": {},
   "source": [
    "#### Making a new directory in python "
   ]
  },
  {
   "cell_type": "code",
   "execution_count": 164,
   "id": "876081d0",
   "metadata": {
    "scrolled": true
   },
   "outputs": [
    {
     "data": {
      "text/plain": [
       "['.conda',\n",
       " '.condarc',\n",
       " '.continuum',\n",
       " '.ipynb_checkpoints',\n",
       " '.ipython',\n",
       " '.jupyter',\n",
       " '.keras',\n",
       " '.matplotlib',\n",
       " 'Activation Functions.ipynb',\n",
       " 'anaconda3',\n",
       " 'AppData',\n",
       " 'Application Data',\n",
       " 'auto-mpg.csv',\n",
       " 'Auto-mpg_data_set.ipynb',\n",
       " 'Basics_of_python_Day1.ipynb',\n",
       " 'Cardio.Good.Fitness_data_set.ipynb',\n",
       " 'CardioGoodFitness-1.csv',\n",
       " 'concrete.csv',\n",
       " 'Concrete_data_set.ipynb',\n",
       " 'Contacts',\n",
       " 'Cookies',\n",
       " 'Desktop',\n",
       " 'Documents',\n",
       " 'Downloads',\n",
       " 'Favorites',\n",
       " 'hotel_bookings.csv',\n",
       " 'hotel_booking_data-set.ipynb',\n",
       " 'Keras-Fashion-mnsit_data set.ipynb',\n",
       " 'Links',\n",
       " 'Loan_prediction_dataset.ipynb',\n",
       " 'Local Settings',\n",
       " 'Music',\n",
       " 'My Documents',\n",
       " 'my_directory',\n",
       " 'NetHood',\n",
       " 'new_directory',\n",
       " 'NTUSER.DAT',\n",
       " 'ntuser.dat.LOG1',\n",
       " 'ntuser.dat.LOG2',\n",
       " 'NTUSER.DAT{a2332f18-cdbf-11ec-8680-002248483d79}.TM.blf',\n",
       " 'NTUSER.DAT{a2332f18-cdbf-11ec-8680-002248483d79}.TMContainer00000000000000000001.regtrans-ms',\n",
       " 'NTUSER.DAT{a2332f18-cdbf-11ec-8680-002248483d79}.TMContainer00000000000000000002.regtrans-ms',\n",
       " 'ntuser.ini',\n",
       " 'Numpy.ipynb',\n",
       " 'OneDrive',\n",
       " 'Pandas&Matplotlib.ipynb',\n",
       " 'Pandas-Titanic_data_set.ipynb',\n",
       " 'Pictures',\n",
       " 'PrintHood',\n",
       " 'Python_Programming.ipynb',\n",
       " 'Recent',\n",
       " 'Regex, Spacy vs NLTK.ipynb',\n",
       " 'Saved Games',\n",
       " 'Seaborn.ipynb',\n",
       " 'Searches',\n",
       " 'SendTo',\n",
       " 'Start Menu',\n",
       " 'Statistics',\n",
       " 'TaxiFare.csv',\n",
       " 'TAXI_FAIR_dataset.ipynb',\n",
       " 'Templates',\n",
       " 'test2.txt',\n",
       " 'Vaccine_dataset.ipynb',\n",
       " 'Videos']"
      ]
     },
     "execution_count": 164,
     "metadata": {},
     "output_type": "execute_result"
    }
   ],
   "source": [
    "os.mkdir(\"my_directory\")\n",
    "os.listdir()"
   ]
  },
  {
   "cell_type": "code",
   "execution_count": 167,
   "id": "1561dcb9",
   "metadata": {},
   "outputs": [
    {
     "name": "stdout",
     "output_type": "stream",
     "text": [
      "C:\\Users\\Admin\n"
     ]
    }
   ],
   "source": [
    "print(os.getcwd())"
   ]
  },
  {
   "cell_type": "markdown",
   "id": "1845b05b",
   "metadata": {},
   "source": [
    "#### Renaming a directory of a file"
   ]
  },
  {
   "cell_type": "code",
   "execution_count": 169,
   "id": "ed11e2d3",
   "metadata": {
    "scrolled": true
   },
   "outputs": [
    {
     "data": {
      "text/plain": [
       "['.conda',\n",
       " '.condarc',\n",
       " '.continuum',\n",
       " '.ipynb_checkpoints',\n",
       " '.ipython',\n",
       " '.jupyter',\n",
       " '.keras',\n",
       " '.matplotlib',\n",
       " 'Activation Functions.ipynb',\n",
       " 'anaconda3',\n",
       " 'AppData',\n",
       " 'Application Data',\n",
       " 'auto-mpg.csv',\n",
       " 'Auto-mpg_data_set.ipynb',\n",
       " 'Basics_of_python_Day1.ipynb',\n",
       " 'Cardio.Good.Fitness_data_set.ipynb',\n",
       " 'CardioGoodFitness-1.csv',\n",
       " 'concrete.csv',\n",
       " 'Concrete_data_set.ipynb',\n",
       " 'Contacts',\n",
       " 'Cookies',\n",
       " 'Desktop',\n",
       " 'Documents',\n",
       " 'Downloads',\n",
       " 'Favorites',\n",
       " 'hotel_bookings.csv',\n",
       " 'hotel_booking_data-set.ipynb',\n",
       " 'Keras-Fashion-mnsit_data set.ipynb',\n",
       " 'Links',\n",
       " 'Loan_prediction_dataset.ipynb',\n",
       " 'Local Settings',\n",
       " 'Music',\n",
       " 'My Documents',\n",
       " 'NetHood',\n",
       " 'new_directory',\n",
       " 'NTUSER.DAT',\n",
       " 'ntuser.dat.LOG1',\n",
       " 'ntuser.dat.LOG2',\n",
       " 'NTUSER.DAT{a2332f18-cdbf-11ec-8680-002248483d79}.TM.blf',\n",
       " 'NTUSER.DAT{a2332f18-cdbf-11ec-8680-002248483d79}.TMContainer00000000000000000001.regtrans-ms',\n",
       " 'NTUSER.DAT{a2332f18-cdbf-11ec-8680-002248483d79}.TMContainer00000000000000000002.regtrans-ms',\n",
       " 'ntuser.ini',\n",
       " 'Numpy.ipynb',\n",
       " 'OneDrive',\n",
       " 'Pandas&Matplotlib.ipynb',\n",
       " 'Pandas-Titanic_data_set.ipynb',\n",
       " 'Pictures',\n",
       " 'PrintHood',\n",
       " 'Python_Programming.ipynb',\n",
       " 'Recent',\n",
       " 'Regex, Spacy vs NLTK.ipynb',\n",
       " 'Saved Games',\n",
       " 'Seaborn.ipynb',\n",
       " 'Searches',\n",
       " 'SendTo',\n",
       " 'Start Menu',\n",
       " 'Statistics',\n",
       " 'TaxiFare.csv',\n",
       " 'TAXI_FAIR_dataset.ipynb',\n",
       " 'Templates',\n",
       " 'test2.txt',\n",
       " 'Vaccine_dataset.ipynb',\n",
       " 'Videos']"
      ]
     },
     "execution_count": 169,
     "metadata": {},
     "output_type": "execute_result"
    }
   ],
   "source": [
    "import os\n",
    "os.rename(\"my_directory\",\"new_directory\")\n",
    "os.listdir()\n",
    "\n"
   ]
  },
  {
   "cell_type": "markdown",
   "id": "d0a3c8e4",
   "metadata": {},
   "source": [
    "#### Remove a directory or file in pythoh"
   ]
  },
  {
   "cell_type": "code",
   "execution_count": 160,
   "id": "f1ae83aa",
   "metadata": {},
   "outputs": [],
   "source": [
    "import os\n",
    "os.remove(\"test.txt\")  # remove a file"
   ]
  },
  {
   "cell_type": "code",
   "execution_count": 161,
   "id": "64e65de9",
   "metadata": {
    "scrolled": true
   },
   "outputs": [
    {
     "data": {
      "text/plain": [
       "['.conda',\n",
       " '.condarc',\n",
       " '.continuum',\n",
       " '.ipynb_checkpoints',\n",
       " '.ipython',\n",
       " '.jupyter',\n",
       " '.keras',\n",
       " '.matplotlib',\n",
       " 'Activation Functions.ipynb',\n",
       " 'anaconda3',\n",
       " 'AppData',\n",
       " 'Application Data',\n",
       " 'auto-mpg.csv',\n",
       " 'Auto-mpg_data_set.ipynb',\n",
       " 'Basics_of_python_Day1.ipynb',\n",
       " 'Cardio.Good.Fitness_data_set.ipynb',\n",
       " 'CardioGoodFitness-1.csv',\n",
       " 'concrete.csv',\n",
       " 'Concrete_data_set.ipynb',\n",
       " 'Contacts',\n",
       " 'Cookies',\n",
       " 'Desktop',\n",
       " 'Documents',\n",
       " 'Downloads',\n",
       " 'Favorites',\n",
       " 'hotel_bookings.csv',\n",
       " 'hotel_booking_data-set.ipynb',\n",
       " 'Keras-Fashion-mnsit_data set.ipynb',\n",
       " 'Links',\n",
       " 'Loan_prediction_dataset.ipynb',\n",
       " 'Local Settings',\n",
       " 'Music',\n",
       " 'My Documents',\n",
       " 'NetHood',\n",
       " 'new_directory',\n",
       " 'NTUSER.DAT',\n",
       " 'ntuser.dat.LOG1',\n",
       " 'ntuser.dat.LOG2',\n",
       " 'NTUSER.DAT{a2332f18-cdbf-11ec-8680-002248483d79}.TM.blf',\n",
       " 'NTUSER.DAT{a2332f18-cdbf-11ec-8680-002248483d79}.TMContainer00000000000000000001.regtrans-ms',\n",
       " 'NTUSER.DAT{a2332f18-cdbf-11ec-8680-002248483d79}.TMContainer00000000000000000002.regtrans-ms',\n",
       " 'ntuser.ini',\n",
       " 'Numpy.ipynb',\n",
       " 'OneDrive',\n",
       " 'Pandas&Matplotlib.ipynb',\n",
       " 'Pandas-Titanic_data_set.ipynb',\n",
       " 'Pictures',\n",
       " 'PrintHood',\n",
       " 'Python_Programming.ipynb',\n",
       " 'Recent',\n",
       " 'Regex, Spacy vs NLTK.ipynb',\n",
       " 'Saved Games',\n",
       " 'Seaborn.ipynb',\n",
       " 'Searches',\n",
       " 'SendTo',\n",
       " 'Start Menu',\n",
       " 'Statistics',\n",
       " 'TaxiFare.csv',\n",
       " 'TAXI_FAIR_dataset.ipynb',\n",
       " 'Templates',\n",
       " 'test2.txt',\n",
       " 'Vaccine_dataset.ipynb',\n",
       " 'Videos']"
      ]
     },
     "execution_count": 161,
     "metadata": {},
     "output_type": "execute_result"
    }
   ],
   "source": [
    "os.listdir()"
   ]
  },
  {
   "cell_type": "code",
   "execution_count": 171,
   "id": "04f660ff",
   "metadata": {},
   "outputs": [],
   "source": [
    "# remove a directory\n",
    "os.rmdir(\"new_directory\")"
   ]
  },
  {
   "cell_type": "code",
   "execution_count": null,
   "id": "9a70f253",
   "metadata": {},
   "outputs": [],
   "source": [
    "import shutil     # permanently delets the file or directory and all of its components\n",
    "shutil.rmtree(\"mydir\")"
   ]
  },
  {
   "cell_type": "code",
   "execution_count": 173,
   "id": "5d10e493",
   "metadata": {},
   "outputs": [],
   "source": [
    "#link->pheoeixnap.com/kb/file-handling-in-python"
   ]
  },
  {
   "cell_type": "markdown",
   "id": "3f8f4678",
   "metadata": {},
   "source": [
    "## Python flows controls"
   ]
  },
  {
   "cell_type": "markdown",
   "id": "ed68de03",
   "metadata": {},
   "source": [
    "### Conditionals"
   ]
  },
  {
   "cell_type": "markdown",
   "id": "ee92f326",
   "metadata": {},
   "source": [
    "#### If"
   ]
  },
  {
   "cell_type": "code",
   "execution_count": 95,
   "id": "f1774887",
   "metadata": {},
   "outputs": [
    {
     "name": "stdout",
     "output_type": "stream",
     "text": [
      "8 is greater than zero\n",
      "This is always printed\n"
     ]
    }
   ],
   "source": [
    "num=8\n",
    "if(num>0):\n",
    "    print(num,\"is greater than zero\")\n",
    "print(\"This is always printed\")"
   ]
  },
  {
   "cell_type": "code",
   "execution_count": 102,
   "id": "23c6f86d",
   "metadata": {},
   "outputs": [],
   "source": [
    "num=-1\n",
    "if(num>0):\n",
    "    print(num,\"is greater than zero\")\n",
    "    print(\"This is always printed\")"
   ]
  },
  {
   "cell_type": "code",
   "execution_count": 103,
   "id": "2b06ed64",
   "metadata": {},
   "outputs": [
    {
     "name": "stdout",
     "output_type": "stream",
     "text": [
      "This is always printed\n"
     ]
    }
   ],
   "source": [
    "num=-1\n",
    "if(num>0):\n",
    "    print(num,\"is greater than zero\")\n",
    "print(\"This is always printed\")"
   ]
  },
  {
   "cell_type": "markdown",
   "id": "2fcc12c6",
   "metadata": {},
   "source": [
    "#### If Else"
   ]
  },
  {
   "cell_type": "code",
   "execution_count": 112,
   "id": "ca63a3f8",
   "metadata": {},
   "outputs": [
    {
     "name": "stdout",
     "output_type": "stream",
     "text": [
      "-1 is less than zero\n",
      "This is always printed\n"
     ]
    }
   ],
   "source": [
    "num=-1\n",
    "if(num>0):\n",
    "    print(num,\"is greater than zero\")\n",
    "else:\n",
    "    print(num,\"is less than zero\")\n",
    "print(\"This is always printed\")"
   ]
  },
  {
   "cell_type": "code",
   "execution_count": 116,
   "id": "8368f460",
   "metadata": {},
   "outputs": [
    {
     "name": "stdout",
     "output_type": "stream",
     "text": [
      "8 is greater than zero\n",
      "This is always printed\n"
     ]
    }
   ],
   "source": [
    "num=8\n",
    "if(num>0):\n",
    "    print(num,\"is greater than zero\")\n",
    "else:\n",
    "    print(num,\"is less than zero\")\n",
    "print(\"This is always printed\")"
   ]
  },
  {
   "cell_type": "markdown",
   "id": "b6454f46",
   "metadata": {},
   "source": [
    "#### else if conditionalsm"
   ]
  },
  {
   "cell_type": "code",
   "execution_count": 177,
   "id": "63fa49d7",
   "metadata": {},
   "outputs": [
    {
     "name": "stdout",
     "output_type": "stream",
     "text": [
      "0 is equal to zero\n",
      "This is always printed\n"
     ]
    }
   ],
   "source": [
    "num=0\n",
    "if(num>0):\n",
    "    print(num,\"is greater than zero\")\n",
    "elif(num==0):\n",
    "    print(num,\"is equal to zero\")\n",
    "else:\n",
    "    print(num,\"is less than zero\")\n",
    "print(\"This is always printed\")"
   ]
  },
  {
   "cell_type": "code",
   "execution_count": null,
   "id": "db1a71e9",
   "metadata": {},
   "outputs": [],
   "source": []
  }
 ],
 "metadata": {
  "kernelspec": {
   "display_name": "Python 3 (ipykernel)",
   "language": "python",
   "name": "python3"
  },
  "language_info": {
   "codemirror_mode": {
    "name": "ipython",
    "version": 3
   },
   "file_extension": ".py",
   "mimetype": "text/x-python",
   "name": "python",
   "nbconvert_exporter": "python",
   "pygments_lexer": "ipython3",
   "version": "3.11.3"
  }
 },
 "nbformat": 4,
 "nbformat_minor": 5
}
